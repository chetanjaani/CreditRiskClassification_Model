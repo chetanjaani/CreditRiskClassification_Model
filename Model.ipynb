{
 "cells": [
  {
   "cell_type": "markdown",
   "id": "1a73ff9a",
   "metadata": {},
   "source": [
    "### **CreditRiskClassification_Model**"
   ]
  },
  {
   "cell_type": "markdown",
   "id": "78846d15",
   "metadata": {},
   "source": [
    "#### Problem Defintion:\n"
   ]
  },
  {
   "cell_type": "code",
   "execution_count": 3,
   "id": "882d1b54",
   "metadata": {},
   "outputs": [],
   "source": [
    "# Import Data Manipulation Library\n",
    "import numpy as np\n",
    "import pandas as pd\n",
    "# Import Data Visualization Library\n",
    "import seaborn as sns\n",
    "import matplotlib.pyplot as plt\n",
    "#Import FilterWarning Library\n",
    "import warnings\n",
    "warnings. filterwarnings('ignore')\n",
    "# Import Logging\n",
    "import logging \n",
    "logging.basicConfig(level = logging.INFO,\n",
    "                    filename = 'model.log',\n",
    "                    filemode = 'w',\n",
    "                    format = '%(asctimme)s - %(levelname)s - %(message)s')\n",
    "#Import Scikit-Learn Libraries\n",
    "from sklearn.preprocessing import MinMaxScaler, RobustScaler\n",
    "from sklearn.model_selection import train_test_split\n",
    "from sklearn.metrics import accuracy_score, confusion_matrix, classification_report\n"
   ]
  }
 ],
 "metadata": {
  "kernelspec": {
   "display_name": "env",
   "language": "python",
   "name": "python3"
  },
  "language_info": {
   "codemirror_mode": {
    "name": "ipython",
    "version": 3
   },
   "file_extension": ".py",
   "mimetype": "text/x-python",
   "name": "python",
   "nbconvert_exporter": "python",
   "pygments_lexer": "ipython3",
   "version": "3.12.7"
  }
 },
 "nbformat": 4,
 "nbformat_minor": 5
}
